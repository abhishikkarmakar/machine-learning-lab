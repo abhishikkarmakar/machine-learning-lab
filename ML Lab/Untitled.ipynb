{
 "cells": [
  {
   "cell_type": "code",
   "execution_count": 1,
   "id": "f51ed2b8",
   "metadata": {},
   "outputs": [],
   "source": [
    "import numpy as np"
   ]
  },
  {
   "cell_type": "code",
   "execution_count": 2,
   "id": "937fc2f8",
   "metadata": {},
   "outputs": [],
   "source": [
    "N1=np.array([1,2,3,4])"
   ]
  },
  {
   "cell_type": "code",
   "execution_count": 4,
   "id": "093f0c84",
   "metadata": {},
   "outputs": [
    {
     "data": {
      "text/plain": [
       "(4,)"
      ]
     },
     "execution_count": 4,
     "metadata": {},
     "output_type": "execute_result"
    }
   ],
   "source": [
    "N1.shape"
   ]
  },
  {
   "cell_type": "code",
   "execution_count": 6,
   "id": "dd540ff6",
   "metadata": {},
   "outputs": [
    {
     "name": "stdout",
     "output_type": "stream",
     "text": [
      "[[11 12 13 14]\n",
      " [15 16 17 18]]\n"
     ]
    }
   ],
   "source": [
    "N2=np.array([(11,12,13,14),(15,16,17,18)])\n",
    "print(N2)"
   ]
  },
  {
   "cell_type": "code",
   "execution_count": 7,
   "id": "65e0fe82",
   "metadata": {},
   "outputs": [
    {
     "data": {
      "text/plain": [
       "(2, 4)"
      ]
     },
     "execution_count": 7,
     "metadata": {},
     "output_type": "execute_result"
    }
   ],
   "source": [
    "N2.shape"
   ]
  },
  {
   "cell_type": "code",
   "execution_count": 8,
   "id": "0974cc23",
   "metadata": {},
   "outputs": [
    {
     "data": {
      "text/plain": [
       "8"
      ]
     },
     "execution_count": 8,
     "metadata": {},
     "output_type": "execute_result"
    }
   ],
   "source": [
    "N2.size"
   ]
  },
  {
   "cell_type": "code",
   "execution_count": 9,
   "id": "d0c01d05",
   "metadata": {},
   "outputs": [
    {
     "data": {
      "text/plain": [
       "tuple"
      ]
     },
     "execution_count": 9,
     "metadata": {},
     "output_type": "execute_result"
    }
   ],
   "source": [
    "type(N2.shape)"
   ]
  },
  {
   "cell_type": "code",
   "execution_count": 10,
   "id": "861342a0",
   "metadata": {},
   "outputs": [
    {
     "name": "stdout",
     "output_type": "stream",
     "text": [
      "[[[111 112 113]\n",
      "  [114 115 116]]\n",
      "\n",
      " [[211 213 213]\n",
      "  [214 215 216]]\n",
      "\n",
      " [[311 312 313]\n",
      "  [314 315 316]]]\n"
     ]
    }
   ],
   "source": [
    "N3=np.array([[(111,112,113),(114,115,116)],\n",
    "             [(211,213,213),(214,215,216)],\n",
    "             [(311,312,313),(314,315,316)]])\n",
    "print(N3)"
   ]
  },
  {
   "cell_type": "code",
   "execution_count": 11,
   "id": "322a8c30",
   "metadata": {},
   "outputs": [
    {
     "data": {
      "text/plain": [
       "(3, 2, 3)"
      ]
     },
     "execution_count": 11,
     "metadata": {},
     "output_type": "execute_result"
    }
   ],
   "source": [
    "N3.shape"
   ]
  },
  {
   "cell_type": "code",
   "execution_count": 12,
   "id": "911ec988",
   "metadata": {},
   "outputs": [
    {
     "data": {
      "text/plain": [
       "array([1, 2, 3, 4])"
      ]
     },
     "execution_count": 12,
     "metadata": {},
     "output_type": "execute_result"
    }
   ],
   "source": [
    "N1"
   ]
  },
  {
   "cell_type": "code",
   "execution_count": 13,
   "id": "9f15e298",
   "metadata": {},
   "outputs": [
    {
     "data": {
      "text/plain": [
       "1"
      ]
     },
     "execution_count": 13,
     "metadata": {},
     "output_type": "execute_result"
    }
   ],
   "source": [
    "N1[0]"
   ]
  },
  {
   "cell_type": "code",
   "execution_count": 14,
   "id": "551b1dbc",
   "metadata": {},
   "outputs": [
    {
     "data": {
      "text/plain": [
       "array([1, 2, 3])"
      ]
     },
     "execution_count": 14,
     "metadata": {},
     "output_type": "execute_result"
    }
   ],
   "source": [
    "N1[0:3]"
   ]
  },
  {
   "cell_type": "code",
   "execution_count": 15,
   "id": "89556261",
   "metadata": {},
   "outputs": [
    {
     "data": {
      "text/plain": [
       "4"
      ]
     },
     "execution_count": 15,
     "metadata": {},
     "output_type": "execute_result"
    }
   ],
   "source": [
    "N1[-1]"
   ]
  },
  {
   "cell_type": "code",
   "execution_count": 16,
   "id": "a3401779",
   "metadata": {},
   "outputs": [
    {
     "data": {
      "text/plain": [
       "array([1, 2])"
      ]
     },
     "execution_count": 16,
     "metadata": {},
     "output_type": "execute_result"
    }
   ],
   "source": [
    "N1[-4:-2]"
   ]
  },
  {
   "cell_type": "code",
   "execution_count": 17,
   "id": "ceb1fbbc",
   "metadata": {},
   "outputs": [
    {
     "data": {
      "text/plain": [
       "array([[11, 12, 13, 14],\n",
       "       [15, 16, 17, 18]])"
      ]
     },
     "execution_count": 17,
     "metadata": {},
     "output_type": "execute_result"
    }
   ],
   "source": [
    "N2"
   ]
  },
  {
   "cell_type": "code",
   "execution_count": 18,
   "id": "601b4e19",
   "metadata": {},
   "outputs": [
    {
     "data": {
      "text/plain": [
       "11"
      ]
     },
     "execution_count": 18,
     "metadata": {},
     "output_type": "execute_result"
    }
   ],
   "source": [
    "N2[0,0]"
   ]
  },
  {
   "cell_type": "code",
   "execution_count": 19,
   "id": "610ae36b",
   "metadata": {},
   "outputs": [
    {
     "data": {
      "text/plain": [
       "18"
      ]
     },
     "execution_count": 19,
     "metadata": {},
     "output_type": "execute_result"
    }
   ],
   "source": [
    "N2[1,3]"
   ]
  },
  {
   "cell_type": "code",
   "execution_count": 20,
   "id": "f186a9cb",
   "metadata": {},
   "outputs": [
    {
     "data": {
      "text/plain": [
       "array([[11, 12],\n",
       "       [15, 16]])"
      ]
     },
     "execution_count": 20,
     "metadata": {},
     "output_type": "execute_result"
    }
   ],
   "source": [
    "N2[0:,0:2]"
   ]
  },
  {
   "cell_type": "code",
   "execution_count": 21,
   "id": "45dc8bbe",
   "metadata": {},
   "outputs": [
    {
     "data": {
      "text/plain": [
       "array([[12, 13],\n",
       "       [16, 17]])"
      ]
     },
     "execution_count": 21,
     "metadata": {},
     "output_type": "execute_result"
    }
   ],
   "source": [
    "N2[0:,1:3]\n"
   ]
  },
  {
   "cell_type": "code",
   "execution_count": 22,
   "id": "28a142f2",
   "metadata": {},
   "outputs": [
    {
     "data": {
      "text/plain": [
       "array([[[111, 112, 113],\n",
       "        [114, 115, 116]],\n",
       "\n",
       "       [[211, 213, 213],\n",
       "        [214, 215, 216]],\n",
       "\n",
       "       [[311, 312, 313],\n",
       "        [314, 315, 316]]])"
      ]
     },
     "execution_count": 22,
     "metadata": {},
     "output_type": "execute_result"
    }
   ],
   "source": [
    "N3"
   ]
  },
  {
   "cell_type": "code",
   "execution_count": 23,
   "id": "0b9642a7",
   "metadata": {},
   "outputs": [
    {
     "data": {
      "text/plain": [
       "112"
      ]
     },
     "execution_count": 23,
     "metadata": {},
     "output_type": "execute_result"
    }
   ],
   "source": [
    "N3[0,0,1]"
   ]
  },
  {
   "cell_type": "code",
   "execution_count": 24,
   "id": "cea0d5c4",
   "metadata": {},
   "outputs": [
    {
     "data": {
      "text/plain": [
       "216"
      ]
     },
     "execution_count": 24,
     "metadata": {},
     "output_type": "execute_result"
    }
   ],
   "source": [
    "N3[1,1,2]"
   ]
  },
  {
   "cell_type": "code",
   "execution_count": 25,
   "id": "6e14fcdd",
   "metadata": {},
   "outputs": [
    {
     "data": {
      "text/plain": [
       "array([[[111, 112],\n",
       "        [114, 115]],\n",
       "\n",
       "       [[211, 213],\n",
       "        [214, 215]]])"
      ]
     },
     "execution_count": 25,
     "metadata": {},
     "output_type": "execute_result"
    }
   ],
   "source": [
    "N3[0:2,0:,0:2]"
   ]
  },
  {
   "cell_type": "code",
   "execution_count": 27,
   "id": "04bb58fa",
   "metadata": {},
   "outputs": [
    {
     "data": {
      "text/plain": [
       "array([[[111, 112],\n",
       "        [113, 114],\n",
       "        [115, 116]],\n",
       "\n",
       "       [[211, 213],\n",
       "        [213, 214],\n",
       "        [215, 216]],\n",
       "\n",
       "       [[311, 312],\n",
       "        [313, 314],\n",
       "        [315, 316]]])"
      ]
     },
     "execution_count": 27,
     "metadata": {},
     "output_type": "execute_result"
    }
   ],
   "source": [
    "N3.reshape(3,3,2)"
   ]
  },
  {
   "cell_type": "code",
   "execution_count": 29,
   "id": "eaa29781",
   "metadata": {},
   "outputs": [
    {
     "data": {
      "text/plain": [
       "array([ 0,  2,  4,  6,  8, 10, 12, 14, 16, 18])"
      ]
     },
     "execution_count": 29,
     "metadata": {},
     "output_type": "execute_result"
    }
   ],
   "source": [
    "np.arange(0,20,2)"
   ]
  },
  {
   "cell_type": "code",
   "execution_count": 30,
   "id": "c9525bdf",
   "metadata": {},
   "outputs": [
    {
     "data": {
      "text/plain": [
       "array([-5, -3, -1,  1,  3,  5,  7,  9, 11, 13, 15, 17, 19])"
      ]
     },
     "execution_count": 30,
     "metadata": {},
     "output_type": "execute_result"
    }
   ],
   "source": [
    "np.arange(-5,20,2)"
   ]
  },
  {
   "cell_type": "code",
   "execution_count": 32,
   "id": "7acd34de",
   "metadata": {},
   "outputs": [
    {
     "data": {
      "text/plain": [
       "array([ -5,  -7,  -9, -11, -13, -15, -17, -19])"
      ]
     },
     "execution_count": 32,
     "metadata": {},
     "output_type": "execute_result"
    }
   ],
   "source": [
    "np.arange(-5,-20,-2)"
   ]
  },
  {
   "cell_type": "code",
   "execution_count": 34,
   "id": "d4347974",
   "metadata": {},
   "outputs": [
    {
     "data": {
      "text/plain": [
       "array([[[0., 0.],\n",
       "        [0., 0.]],\n",
       "\n",
       "       [[0., 0.],\n",
       "        [0., 0.]],\n",
       "\n",
       "       [[0., 0.],\n",
       "        [0., 0.]]])"
      ]
     },
     "execution_count": 34,
     "metadata": {},
     "output_type": "execute_result"
    }
   ],
   "source": [
    "np.zeros([3,2,2])"
   ]
  },
  {
   "cell_type": "code",
   "execution_count": null,
   "id": "5e8869d6",
   "metadata": {},
   "outputs": [],
   "source": []
  }
 ],
 "metadata": {
  "kernelspec": {
   "display_name": "Python 3",
   "language": "python",
   "name": "python3"
  },
  "language_info": {
   "codemirror_mode": {
    "name": "ipython",
    "version": 3
   },
   "file_extension": ".py",
   "mimetype": "text/x-python",
   "name": "python",
   "nbconvert_exporter": "python",
   "pygments_lexer": "ipython3",
   "version": "3.8.8"
  }
 },
 "nbformat": 4,
 "nbformat_minor": 5
}
